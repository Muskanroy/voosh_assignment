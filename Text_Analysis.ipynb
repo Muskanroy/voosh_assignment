{
 "cells": [
  {
   "cell_type": "markdown",
   "metadata": {},
   "source": [
    "## Problem Statement2\n",
    "Come up with the frequency of each word used across all item descriptions (text analysis)\n"
   ]
  },
  {
   "cell_type": "markdown",
   "metadata": {},
   "source": [
    "### Text Analysis "
   ]
  },
  {
   "cell_type": "code",
   "execution_count": 1,
   "metadata": {},
   "outputs": [
    {
     "data": {
      "text/html": [
       "<div>\n",
       "<style scoped>\n",
       "    .dataframe tbody tr th:only-of-type {\n",
       "        vertical-align: middle;\n",
       "    }\n",
       "\n",
       "    .dataframe tbody tr th {\n",
       "        vertical-align: top;\n",
       "    }\n",
       "\n",
       "    .dataframe thead th {\n",
       "        text-align: right;\n",
       "    }\n",
       "</style>\n",
       "<table border=\"1\" class=\"dataframe\">\n",
       "  <thead>\n",
       "    <tr style=\"text-align: right;\">\n",
       "      <th></th>\n",
       "      <th>item_name</th>\n",
       "      <th>must_try_tag</th>\n",
       "      <th>price</th>\n",
       "      <th>item_description</th>\n",
       "    </tr>\n",
       "  </thead>\n",
       "  <tbody>\n",
       "    <tr>\n",
       "      <th>0</th>\n",
       "      <td>Voosh Paneer Premium Thali with Sweet, Butter ...</td>\n",
       "      <td>MUST TRY</td>\n",
       "      <td>₹209</td>\n",
       "      <td>Enjoy a wholesome thali meal with paneer masal...</td>\n",
       "    </tr>\n",
       "    <tr>\n",
       "      <th>1</th>\n",
       "      <td>2 Gobhi Paratha, Curd &amp; Pickle Meal</td>\n",
       "      <td>MUST TRY</td>\n",
       "      <td>₹134</td>\n",
       "      <td>2 gobhi parathas, curd, sweet, salad and pickl...</td>\n",
       "    </tr>\n",
       "  </tbody>\n",
       "</table>\n",
       "</div>"
      ],
      "text/plain": [
       "                                           item_name must_try_tag price  \\\n",
       "0  Voosh Paneer Premium Thali with Sweet, Butter ...     MUST TRY  ₹209   \n",
       "1                2 Gobhi Paratha, Curd & Pickle Meal     MUST TRY  ₹134   \n",
       "\n",
       "                                    item_description  \n",
       "0  Enjoy a wholesome thali meal with paneer masal...  \n",
       "1  2 gobhi parathas, curd, sweet, salad and pickl...  "
      ]
     },
     "execution_count": 1,
     "metadata": {},
     "output_type": "execute_result"
    }
   ],
   "source": [
    "#read the csv file\n",
    "import pandas as pd\n",
    "read_data=pd.read_csv(\"C:\\\\Users\\\\muska\\\\final_data3.csv\")\n",
    "read_data[:2]"
   ]
  },
  {
   "cell_type": "code",
   "execution_count": 2,
   "metadata": {},
   "outputs": [],
   "source": [
    "#convet item description data into lowercase\n",
    "read_data['item_description'] = read_data['item_description'].str.lower()"
   ]
  },
  {
   "cell_type": "markdown",
   "metadata": {},
   "source": [
    "### Tokenization\n",
    "We will now apply the word_tokenize method from NLTK to split the item description into individual words , making a new column in our read_data DataFrame. Each entry will be a list of words. Here we will also strip out non alphanumeric words/characters (such as numbers and punctuation) using .isalpha. "
   ]
  },
  {
   "cell_type": "code",
   "execution_count": 3,
   "metadata": {},
   "outputs": [],
   "source": [
    "#tokenization\n",
    "import nltk\n",
    "def identify_tokens(row):\n",
    "    description = row['item_description']\n",
    "    tokens = nltk.word_tokenize(description)\n",
    "    # taken only words (not punctuation)\n",
    "    token_words = [w for w in tokens if w.isalpha()]\n",
    "    return token_words\n",
    "\n",
    "read_data['words'] = read_data.apply(identify_tokens, axis=1)"
   ]
  },
  {
   "cell_type": "code",
   "execution_count": 4,
   "metadata": {},
   "outputs": [
    {
     "data": {
      "text/html": [
       "<div>\n",
       "<style scoped>\n",
       "    .dataframe tbody tr th:only-of-type {\n",
       "        vertical-align: middle;\n",
       "    }\n",
       "\n",
       "    .dataframe tbody tr th {\n",
       "        vertical-align: top;\n",
       "    }\n",
       "\n",
       "    .dataframe thead th {\n",
       "        text-align: right;\n",
       "    }\n",
       "</style>\n",
       "<table border=\"1\" class=\"dataframe\">\n",
       "  <thead>\n",
       "    <tr style=\"text-align: right;\">\n",
       "      <th></th>\n",
       "      <th>item_name</th>\n",
       "      <th>must_try_tag</th>\n",
       "      <th>price</th>\n",
       "      <th>item_description</th>\n",
       "      <th>words</th>\n",
       "    </tr>\n",
       "  </thead>\n",
       "  <tbody>\n",
       "    <tr>\n",
       "      <th>0</th>\n",
       "      <td>Voosh Paneer Premium Thali with Sweet, Butter ...</td>\n",
       "      <td>MUST TRY</td>\n",
       "      <td>₹209</td>\n",
       "      <td>enjoy a wholesome thali meal with paneer masal...</td>\n",
       "      <td>[enjoy, a, wholesome, thali, meal, with, panee...</td>\n",
       "    </tr>\n",
       "    <tr>\n",
       "      <th>1</th>\n",
       "      <td>2 Gobhi Paratha, Curd &amp; Pickle Meal</td>\n",
       "      <td>MUST TRY</td>\n",
       "      <td>₹134</td>\n",
       "      <td>2 gobhi parathas, curd, sweet, salad and pickl...</td>\n",
       "      <td>[gobhi, parathas, curd, sweet, salad, and, pic...</td>\n",
       "    </tr>\n",
       "  </tbody>\n",
       "</table>\n",
       "</div>"
      ],
      "text/plain": [
       "                                           item_name must_try_tag price  \\\n",
       "0  Voosh Paneer Premium Thali with Sweet, Butter ...     MUST TRY  ₹209   \n",
       "1                2 Gobhi Paratha, Curd & Pickle Meal     MUST TRY  ₹134   \n",
       "\n",
       "                                    item_description  \\\n",
       "0  enjoy a wholesome thali meal with paneer masal...   \n",
       "1  2 gobhi parathas, curd, sweet, salad and pickl...   \n",
       "\n",
       "                                               words  \n",
       "0  [enjoy, a, wholesome, thali, meal, with, panee...  \n",
       "1  [gobhi, parathas, curd, sweet, salad, and, pic...  "
      ]
     },
     "execution_count": 4,
     "metadata": {},
     "output_type": "execute_result"
    }
   ],
   "source": [
    "read_data[:2]"
   ]
  },
  {
   "cell_type": "markdown",
   "metadata": {},
   "source": [
    "### Removing stop words\n",
    "‘Stop words’ are commonly used words that are unlikely to have any benefit in natural language processing. These includes words such as ‘a’, ‘the’, ‘is’."
   ]
  },
  {
   "cell_type": "code",
   "execution_count": 5,
   "metadata": {},
   "outputs": [
    {
     "name": "stderr",
     "output_type": "stream",
     "text": [
      "[nltk_data] Downloading package stopwords to\n",
      "[nltk_data]     C:\\Users\\muska\\AppData\\Roaming\\nltk_data...\n",
      "[nltk_data]   Package stopwords is already up-to-date!\n"
     ]
    },
    {
     "data": {
      "text/plain": [
       "True"
      ]
     },
     "execution_count": 5,
     "metadata": {},
     "output_type": "execute_result"
    }
   ],
   "source": [
    "import nltk\n",
    "nltk.download('stopwords')"
   ]
  },
  {
   "cell_type": "code",
   "execution_count": 6,
   "metadata": {},
   "outputs": [
    {
     "data": {
      "text/plain": [
       "['i', 'me', 'my', 'myself', 'we', 'our', 'ours', 'ourselves', 'you', \"you're\"]"
      ]
     },
     "execution_count": 6,
     "metadata": {},
     "output_type": "execute_result"
    }
   ],
   "source": [
    "from nltk.corpus import stopwords\n",
    "stop_words = stopwords.words('english')\n",
    "stop_words.append('ml')\n",
    "stop_words[0:10]"
   ]
  },
  {
   "cell_type": "markdown",
   "metadata": {},
   "source": [
    "As before we will define a function and apply it to our DataFrame."
   ]
  },
  {
   "cell_type": "code",
   "execution_count": 7,
   "metadata": {},
   "outputs": [],
   "source": [
    "def description_without_sw(words):\n",
    "    txt = [word for word in words if not word in stop_words]\n",
    "    return txt"
   ]
  },
  {
   "cell_type": "code",
   "execution_count": 8,
   "metadata": {},
   "outputs": [],
   "source": [
    "read_data['words']= read_data['words'].apply(lambda x: description_without_sw(x))"
   ]
  },
  {
   "cell_type": "code",
   "execution_count": 9,
   "metadata": {},
   "outputs": [
    {
     "data": {
      "text/plain": [
       "0    [enjoy, wholesome, thali, meal, paneer, masala...\n",
       "1    [gobhi, parathas, curd, sweet, salad, pickle, ...\n",
       "Name: words, dtype: object"
      ]
     },
     "execution_count": 9,
     "metadata": {},
     "output_type": "execute_result"
    }
   ],
   "source": [
    "read_data['words'][:2]"
   ]
  },
  {
   "cell_type": "code",
   "execution_count": 10,
   "metadata": {},
   "outputs": [
    {
     "name": "stdout",
     "output_type": "stream",
     "text": [
      "[['enjoy', 'wholesome', 'thali', 'meal', 'paneer', 'masala', 'dry', 'veggie', 'day', 'dal', 'tadka', 'phulkas', 'rice', 'sweet', 'butter', 'milk', 'amazing', 'one'], ['gobhi', 'parathas', 'curd', 'sweet', 'salad', 'pickle', 'amazing', 'one']]\n"
     ]
    }
   ],
   "source": [
    "#make a list containing each item description as a list\n",
    "listoflist=[]\n",
    "for l in read_data['words']:\n",
    "    listoflist.append(l)\n",
    "print(listoflist[:2])"
   ]
  },
  {
   "cell_type": "code",
   "execution_count": 11,
   "metadata": {},
   "outputs": [],
   "source": [
    "#convert a list of lists to a flat list\n",
    "flatlist = []\n",
    "for elem in listoflist:\n",
    "    flatlist.extend(elem)"
   ]
  },
  {
   "cell_type": "markdown",
   "metadata": {},
   "source": [
    "To get the count of how many times each word appears in the sample, use the built-in Python library collections."
   ]
  },
  {
   "cell_type": "code",
   "execution_count": 12,
   "metadata": {},
   "outputs": [],
   "source": [
    "# Get Most Commonest Keywords\n",
    "import collections\n",
    "counts = collections.Counter(flatlist)"
   ]
  },
  {
   "cell_type": "code",
   "execution_count": 13,
   "metadata": {},
   "outputs": [
    {
     "data": {
      "text/plain": [
       "[('amazing', 23), ('one', 22), ('sweet', 21), ('rice', 17), ('dal', 16)]"
      ]
     },
     "execution_count": 13,
     "metadata": {},
     "output_type": "execute_result"
    }
   ],
   "source": [
    "counts.most_common()[:5]"
   ]
  },
  {
   "cell_type": "markdown",
   "metadata": {},
   "source": [
    "### Save word frequency as a csv file\n",
    "Based on the counter, create a Pandas Dataframe and convert Dataframe into csv file."
   ]
  },
  {
   "cell_type": "code",
   "execution_count": 14,
   "metadata": {},
   "outputs": [],
   "source": [
    "from pandas import DataFrame\n",
    "word_frequency= pd.DataFrame(counts.most_common(),\n",
    "                             columns=['words', 'count'])"
   ]
  },
  {
   "cell_type": "code",
   "execution_count": 15,
   "metadata": {},
   "outputs": [],
   "source": [
    "word_frequency.to_csv('word_frequency.csv', index=False)"
   ]
  },
  {
   "cell_type": "code",
   "execution_count": null,
   "metadata": {},
   "outputs": [],
   "source": []
  }
 ],
 "metadata": {
  "kernelspec": {
   "display_name": "Python 3",
   "language": "python",
   "name": "python3"
  },
  "language_info": {
   "codemirror_mode": {
    "name": "ipython",
    "version": 3
   },
   "file_extension": ".py",
   "mimetype": "text/x-python",
   "name": "python",
   "nbconvert_exporter": "python",
   "pygments_lexer": "ipython3",
   "version": "3.8.5"
  }
 },
 "nbformat": 4,
 "nbformat_minor": 4
}
