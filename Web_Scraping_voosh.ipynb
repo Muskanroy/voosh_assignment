{
 "cells": [
  {
   "cell_type": "markdown",
   "metadata": {},
   "source": [
    "## Problem Statement1\n",
    "Take any live restaurant on Zomato(example: zomato.com/bangalore/voosh-thalis-bowls-1-bellandur-bangalore/order) and do web scrapping to give the following output- item name, item description, price, must try tag"
   ]
  },
  {
   "cell_type": "markdown",
   "metadata": {},
   "source": [
    "### Web Scraping "
   ]
  },
  {
   "cell_type": "code",
   "execution_count": 1,
   "metadata": {},
   "outputs": [],
   "source": [
    "# Import libraries\n",
    "import selenium\n",
    "from selenium import webdriver as wb"
   ]
  },
  {
   "cell_type": "code",
   "execution_count": 2,
   "metadata": {},
   "outputs": [],
   "source": [
    "#specify the path to chromedriver.exe (download and save on your computer)\n",
    "webD=wb.Chrome('C:/Users/muska/Downloads/chromedriver_win32/chromedriver.exe')\n",
    "webD.maximize_window()\n",
    "#open the webpage \n",
    "webD.get('https://www.zomato.com/bangalore/voosh-thalis-bowls-1-bellandur-bangalore/order')"
   ]
  },
  {
   "cell_type": "code",
   "execution_count": 3,
   "metadata": {},
   "outputs": [],
   "source": [
    "#Extrcat item_name,must_try_tag,price\n",
    "name_musttag_price1=webD.find_elements_by_xpath(\"//div[contains(@class,'sc-1s0saks-13 kQHKsO')]\")\n"
   ]
  },
  {
   "cell_type": "code",
   "execution_count": 4,
   "metadata": {},
   "outputs": [],
   "source": [
    "#click on read more to get the whole description\n",
    "read=webD.find_elements_by_xpath(\"//span[contains(@class,'ya2zuu-0 eDdBAp')]\")"
   ]
  },
  {
   "cell_type": "code",
   "execution_count": 5,
   "metadata": {},
   "outputs": [
    {
     "data": {
      "text/plain": [
       "list"
      ]
     },
     "execution_count": 5,
     "metadata": {},
     "output_type": "execute_result"
    }
   ],
   "source": [
    "type(read)"
   ]
  },
  {
   "cell_type": "code",
   "execution_count": 6,
   "metadata": {},
   "outputs": [],
   "source": [
    "#click on all the read more present in item description\n",
    "for p in read:\n",
    "    p.click()"
   ]
  },
  {
   "cell_type": "code",
   "execution_count": 7,
   "metadata": {},
   "outputs": [
    {
     "data": {
      "text/plain": [
       "['Voosh Paneer Premium Thali with Sweet, Butter Milk\\nMUST TRY\\n₹209',\n",
       " '2 Gobhi Paratha, Curd & Pickle Meal\\nMUST TRY\\n₹134',\n",
       " 'Aloo Gobhi\\nMUST TRY\\n₹126',\n",
       " 'Homely Bhindi Masala Thali with Sweet\\nMUST TRY\\n₹144',\n",
       " 'Homely Paneer Masala Thali with Sweet\\nMUST TRY\\n₹144']"
      ]
     },
     "execution_count": 7,
     "metadata": {},
     "output_type": "execute_result"
    }
   ],
   "source": [
    "#make a list of the outputs containing item_name,must_try_tag,price,description\n",
    "item_list1=[]\n",
    "for item in name_musttag_price1:\n",
    "    item_list1.append(item.text)\n",
    "item_list1[:5]"
   ]
  },
  {
   "cell_type": "code",
   "execution_count": 8,
   "metadata": {},
   "outputs": [
    {
     "data": {
      "text/plain": [
       "[['Voosh Paneer Premium Thali with Sweet, Butter Milk', 'MUST TRY', '₹209'],\n",
       " ['2 Gobhi Paratha, Curd & Pickle Meal', 'MUST TRY', '₹134'],\n",
       " ['Aloo Gobhi', 'MUST TRY', '₹126'],\n",
       " ['Homely Bhindi Masala Thali with Sweet', 'MUST TRY', '₹144'],\n",
       " ['Homely Paneer Masala Thali with Sweet', 'MUST TRY', '₹144']]"
      ]
     },
     "execution_count": 8,
     "metadata": {},
     "output_type": "execute_result"
    }
   ],
   "source": [
    "#make list of lists and split items by \\n \n",
    "final1=[]\n",
    "for items in item_list1:\n",
    "    final1.append(items.split('\\n'))\n",
    "final1[:5]"
   ]
  },
  {
   "cell_type": "code",
   "execution_count": 9,
   "metadata": {},
   "outputs": [],
   "source": [
    "#Extract the description data\n",
    "item_description1=webD.find_elements_by_xpath(\"//p[contains(@class,'sc-1s0saks-12 hcROsL')]\")"
   ]
  },
  {
   "cell_type": "code",
   "execution_count": 10,
   "metadata": {},
   "outputs": [
    {
     "data": {
      "text/plain": [
       "['Enjoy a wholesome thali meal with paneer masala, dry veggie of the day, dal tadka, 2 phulkas, rice, sweet, butter milk. Amazing for one.',\n",
       " '2 gobhi parathas, curd, sweet, salad and pickle. Amazing for one.',\n",
       " 'A dry north Indian sabzi with aloo gobhi tossed in basic Indian spices with a splash of fresh aromatic coriander. Serves 1 with full satisfaction.',\n",
       " 'Enjoy a delicious meal with bhindi masala, dal tadka, 2 phulkas, rice and sweet. Amazing for one.',\n",
       " 'Enjoy a delicious meal with paneer masala, dal tadka, 2 phulkas, rice and sweet. Amazing for one.']"
      ]
     },
     "execution_count": 10,
     "metadata": {},
     "output_type": "execute_result"
    }
   ],
   "source": [
    "#make list of description data\n",
    "descriptions1=[]\n",
    "    \n",
    "for des in item_description1:\n",
    "    #print(des.text)\n",
    "    descriptions1.append(des.text) \n",
    "descriptions1[:5]"
   ]
  },
  {
   "cell_type": "code",
   "execution_count": 11,
   "metadata": {},
   "outputs": [
    {
     "data": {
      "text/plain": [
       "[['Voosh Paneer Premium Thali with Sweet, Butter Milk',\n",
       "  'MUST TRY',\n",
       "  '₹209',\n",
       "  'Enjoy a wholesome thali meal with paneer masala, dry veggie of the day, dal tadka, 2 phulkas, rice, sweet, butter milk. Amazing for one.'],\n",
       " ['2 Gobhi Paratha, Curd & Pickle Meal',\n",
       "  'MUST TRY',\n",
       "  '₹134',\n",
       "  '2 gobhi parathas, curd, sweet, salad and pickle. Amazing for one.']]"
      ]
     },
     "execution_count": 11,
     "metadata": {},
     "output_type": "execute_result"
    }
   ],
   "source": [
    "#append discription data in initial list containing item_name,must_tag,price\n",
    "j=0\n",
    "for i in final1:\n",
    "    i.append(descriptions1[j])\n",
    "    j+=1\n",
    "final1[:2]"
   ]
  },
  {
   "cell_type": "markdown",
   "metadata": {},
   "source": [
    "### Save data to computer \n",
    "save data in the form of csv file"
   ]
  },
  {
   "cell_type": "code",
   "execution_count": 12,
   "metadata": {},
   "outputs": [],
   "source": [
    "#for items not containing must_try tag contain nil for that coloumn\n",
    "for i in final1:\n",
    "    if i[1]!='MUST TRY':\n",
    "        i.insert(1,'nil')"
   ]
  },
  {
   "cell_type": "code",
   "execution_count": 13,
   "metadata": {},
   "outputs": [],
   "source": [
    "from pandas import DataFrame\n",
    "df = DataFrame(final1,columns=['item_name','must_try_tag','price','item_description'])\n",
    "df.to_csv('final_data3.csv', index=False)"
   ]
  },
  {
   "cell_type": "code",
   "execution_count": null,
   "metadata": {},
   "outputs": [],
   "source": []
  },
  {
   "cell_type": "code",
   "execution_count": null,
   "metadata": {},
   "outputs": [],
   "source": []
  }
 ],
 "metadata": {
  "kernelspec": {
   "display_name": "Python 3",
   "language": "python",
   "name": "python3"
  },
  "language_info": {
   "codemirror_mode": {
    "name": "ipython",
    "version": 3
   },
   "file_extension": ".py",
   "mimetype": "text/x-python",
   "name": "python",
   "nbconvert_exporter": "python",
   "pygments_lexer": "ipython3",
   "version": "3.8.5"
  }
 },
 "nbformat": 4,
 "nbformat_minor": 4
}
